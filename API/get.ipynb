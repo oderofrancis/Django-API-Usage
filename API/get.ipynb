{
 "cells": [
  {
   "cell_type": "code",
   "execution_count": 28,
   "metadata": {},
   "outputs": [],
   "source": [
    "import requests\n",
    "import pandas as pd\n",
    "import API_test\n",
    "import json\n",
    "import requests"
   ]
  },
  {
   "cell_type": "code",
   "execution_count": 33,
   "metadata": {},
   "outputs": [
    {
     "data": {
      "text/html": [
       "<div>\n",
       "<style scoped>\n",
       "    .dataframe tbody tr th:only-of-type {\n",
       "        vertical-align: middle;\n",
       "    }\n",
       "\n",
       "    .dataframe tbody tr th {\n",
       "        vertical-align: top;\n",
       "    }\n",
       "\n",
       "    .dataframe thead th {\n",
       "        text-align: right;\n",
       "    }\n",
       "</style>\n",
       "<table border=\"1\" class=\"dataframe\">\n",
       "  <thead>\n",
       "    <tr style=\"text-align: right;\">\n",
       "      <th></th>\n",
       "      <th>id</th>\n",
       "      <th>username</th>\n",
       "      <th>bio</th>\n",
       "      <th>uuid</th>\n",
       "      <th>employee_count</th>\n",
       "      <th>name</th>\n",
       "      <th>bio</th>\n",
       "    </tr>\n",
       "  </thead>\n",
       "  <tbody>\n",
       "    <tr>\n",
       "      <th>0</th>\n",
       "      <td>c660176c-3814-4bdc-aab2-471605afb900</td>\n",
       "      <td>francisodero</td>\n",
       "      <td>Ecoscope Engineer</td>\n",
       "      <td>ee03dde9-9822-4942-8c30-3485754c439c</td>\n",
       "      <td>1</td>\n",
       "      <td>MEP</td>\n",
       "      <td>Elephants</td>\n",
       "    </tr>\n",
       "    <tr>\n",
       "      <th>1</th>\n",
       "      <td>aeeb4379-3b00-4e23-a1ef-786b36480405</td>\n",
       "      <td>Odero</td>\n",
       "      <td>Protecting wildlife</td>\n",
       "      <td>497244e0-2f45-4070-a0da-878363a43269</td>\n",
       "      <td>1</td>\n",
       "      <td>KWS</td>\n",
       "      <td>wildlife</td>\n",
       "    </tr>\n",
       "    <tr>\n",
       "      <th>2</th>\n",
       "      <td>8e8faee0-1069-4417-8ec4-1f5d004a72c5</td>\n",
       "      <td>Francis</td>\n",
       "      <td>Greater Mara ecosystem</td>\n",
       "      <td>d37ef9f1-e004-4e84-958f-685e23e2f0cb</td>\n",
       "      <td>1</td>\n",
       "      <td>MMWCA</td>\n",
       "      <td>conservation</td>\n",
       "    </tr>\n",
       "  </tbody>\n",
       "</table>\n",
       "</div>"
      ],
      "text/plain": [
       "                                     id      username                     bio  \\\n",
       "0  c660176c-3814-4bdc-aab2-471605afb900  francisodero       Ecoscope Engineer   \n",
       "1  aeeb4379-3b00-4e23-a1ef-786b36480405         Odero     Protecting wildlife   \n",
       "2  8e8faee0-1069-4417-8ec4-1f5d004a72c5       Francis  Greater Mara ecosystem   \n",
       "\n",
       "                                   uuid  employee_count   name           bio  \n",
       "0  ee03dde9-9822-4942-8c30-3485754c439c               1    MEP     Elephants  \n",
       "1  497244e0-2f45-4070-a0da-878363a43269               1    KWS      wildlife  \n",
       "2  d37ef9f1-e004-4e84-958f-685e23e2f0cb               1  MMWCA  conservation  "
      ]
     },
     "execution_count": 33,
     "metadata": {},
     "output_type": "execute_result"
    }
   ],
   "source": [
    "API_test.data()"
   ]
  },
  {
   "cell_type": "code",
   "execution_count": 36,
   "metadata": {},
   "outputs": [
    {
     "data": {
      "text/html": [
       "<div>\n",
       "<style scoped>\n",
       "    .dataframe tbody tr th:only-of-type {\n",
       "        vertical-align: middle;\n",
       "    }\n",
       "\n",
       "    .dataframe tbody tr th {\n",
       "        vertical-align: top;\n",
       "    }\n",
       "\n",
       "    .dataframe thead th {\n",
       "        text-align: right;\n",
       "    }\n",
       "</style>\n",
       "<table border=\"1\" class=\"dataframe\">\n",
       "  <thead>\n",
       "    <tr style=\"text-align: right;\">\n",
       "      <th></th>\n",
       "      <th>id</th>\n",
       "      <th>username</th>\n",
       "      <th>bio</th>\n",
       "      <th>uuid</th>\n",
       "      <th>employee_count</th>\n",
       "      <th>name</th>\n",
       "      <th>bio</th>\n",
       "    </tr>\n",
       "  </thead>\n",
       "  <tbody>\n",
       "    <tr>\n",
       "      <th>0</th>\n",
       "      <td>8e8faee0-1069-4417-8ec4-1f5d004a72c5</td>\n",
       "      <td>Francis</td>\n",
       "      <td>Greater Mara ecosystem</td>\n",
       "      <td>d37ef9f1-e004-4e84-958f-685e23e2f0cb</td>\n",
       "      <td>1</td>\n",
       "      <td>MMWCA</td>\n",
       "      <td>conservation</td>\n",
       "    </tr>\n",
       "  </tbody>\n",
       "</table>\n",
       "</div>"
      ],
      "text/plain": [
       "                                     id username                     bio  \\\n",
       "0  8e8faee0-1069-4417-8ec4-1f5d004a72c5  Francis  Greater Mara ecosystem   \n",
       "\n",
       "                                   uuid  employee_count   name           bio  \n",
       "0  d37ef9f1-e004-4e84-958f-685e23e2f0cb               1  MMWCA  conservation  "
      ]
     },
     "execution_count": 36,
     "metadata": {},
     "output_type": "execute_result"
    }
   ],
   "source": [
    "API_test.event(user='Francis')"
   ]
  },
  {
   "cell_type": "code",
   "execution_count": null,
   "metadata": {},
   "outputs": [],
   "source": []
  }
 ],
 "metadata": {
  "kernelspec": {
   "display_name": "env",
   "language": "python",
   "name": "python3"
  },
  "language_info": {
   "codemirror_mode": {
    "name": "ipython",
    "version": 3
   },
   "file_extension": ".py",
   "mimetype": "text/x-python",
   "name": "python",
   "nbconvert_exporter": "python",
   "pygments_lexer": "ipython3",
   "version": "3.10.12"
  }
 },
 "nbformat": 4,
 "nbformat_minor": 2
}
